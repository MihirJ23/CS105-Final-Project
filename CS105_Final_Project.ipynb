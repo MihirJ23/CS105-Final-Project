{
 "cells": [
  {
   "cell_type": "markdown",
   "id": "90853516-de11-4afb-b486-345b679a7024",
   "metadata": {},
   "source": [
    "# Initial Setup"
   ]
  },
  {
   "cell_type": "code",
   "execution_count": 1,
   "id": "4604a683-df5a-4a5a-8ecb-0b6c4008a06e",
   "metadata": {},
   "outputs": [
    {
     "data": {
      "text/html": [
       "<div>\n",
       "<style scoped>\n",
       "    .dataframe tbody tr th:only-of-type {\n",
       "        vertical-align: middle;\n",
       "    }\n",
       "\n",
       "    .dataframe tbody tr th {\n",
       "        vertical-align: top;\n",
       "    }\n",
       "\n",
       "    .dataframe thead th {\n",
       "        text-align: right;\n",
       "    }\n",
       "</style>\n",
       "<table border=\"1\" class=\"dataframe\">\n",
       "  <thead>\n",
       "    <tr style=\"text-align: right;\">\n",
       "      <th></th>\n",
       "      <th>timestamp</th>\n",
       "      <th>company</th>\n",
       "      <th>level</th>\n",
       "      <th>title</th>\n",
       "      <th>totalyearlycompensation</th>\n",
       "      <th>location</th>\n",
       "      <th>yearsofexperience</th>\n",
       "      <th>yearsatcompany</th>\n",
       "      <th>tag</th>\n",
       "      <th>basesalary</th>\n",
       "      <th>...</th>\n",
       "      <th>Doctorate_Degree</th>\n",
       "      <th>Highschool</th>\n",
       "      <th>Some_College</th>\n",
       "      <th>Race_Asian</th>\n",
       "      <th>Race_White</th>\n",
       "      <th>Race_Two_Or_More</th>\n",
       "      <th>Race_Black</th>\n",
       "      <th>Race_Hispanic</th>\n",
       "      <th>Race</th>\n",
       "      <th>Education</th>\n",
       "    </tr>\n",
       "  </thead>\n",
       "  <tbody>\n",
       "    <tr>\n",
       "      <th>0</th>\n",
       "      <td>6/7/2017 11:33:27</td>\n",
       "      <td>Oracle</td>\n",
       "      <td>L3</td>\n",
       "      <td>Product Manager</td>\n",
       "      <td>127000</td>\n",
       "      <td>Redwood City, CA</td>\n",
       "      <td>1.5</td>\n",
       "      <td>1.5</td>\n",
       "      <td>NaN</td>\n",
       "      <td>107000.0</td>\n",
       "      <td>...</td>\n",
       "      <td>0</td>\n",
       "      <td>0</td>\n",
       "      <td>0</td>\n",
       "      <td>0</td>\n",
       "      <td>0</td>\n",
       "      <td>0</td>\n",
       "      <td>0</td>\n",
       "      <td>0</td>\n",
       "      <td>NaN</td>\n",
       "      <td>NaN</td>\n",
       "    </tr>\n",
       "    <tr>\n",
       "      <th>1</th>\n",
       "      <td>6/10/2017 17:11:29</td>\n",
       "      <td>eBay</td>\n",
       "      <td>SE 2</td>\n",
       "      <td>Software Engineer</td>\n",
       "      <td>100000</td>\n",
       "      <td>San Francisco, CA</td>\n",
       "      <td>5.0</td>\n",
       "      <td>3.0</td>\n",
       "      <td>NaN</td>\n",
       "      <td>0.0</td>\n",
       "      <td>...</td>\n",
       "      <td>0</td>\n",
       "      <td>0</td>\n",
       "      <td>0</td>\n",
       "      <td>0</td>\n",
       "      <td>0</td>\n",
       "      <td>0</td>\n",
       "      <td>0</td>\n",
       "      <td>0</td>\n",
       "      <td>NaN</td>\n",
       "      <td>NaN</td>\n",
       "    </tr>\n",
       "    <tr>\n",
       "      <th>2</th>\n",
       "      <td>6/11/2017 14:53:57</td>\n",
       "      <td>Amazon</td>\n",
       "      <td>L7</td>\n",
       "      <td>Product Manager</td>\n",
       "      <td>310000</td>\n",
       "      <td>Seattle, WA</td>\n",
       "      <td>8.0</td>\n",
       "      <td>0.0</td>\n",
       "      <td>NaN</td>\n",
       "      <td>155000.0</td>\n",
       "      <td>...</td>\n",
       "      <td>0</td>\n",
       "      <td>0</td>\n",
       "      <td>0</td>\n",
       "      <td>0</td>\n",
       "      <td>0</td>\n",
       "      <td>0</td>\n",
       "      <td>0</td>\n",
       "      <td>0</td>\n",
       "      <td>NaN</td>\n",
       "      <td>NaN</td>\n",
       "    </tr>\n",
       "    <tr>\n",
       "      <th>3</th>\n",
       "      <td>6/17/2017 0:23:14</td>\n",
       "      <td>Apple</td>\n",
       "      <td>M1</td>\n",
       "      <td>Software Engineering Manager</td>\n",
       "      <td>372000</td>\n",
       "      <td>Sunnyvale, CA</td>\n",
       "      <td>7.0</td>\n",
       "      <td>5.0</td>\n",
       "      <td>NaN</td>\n",
       "      <td>157000.0</td>\n",
       "      <td>...</td>\n",
       "      <td>0</td>\n",
       "      <td>0</td>\n",
       "      <td>0</td>\n",
       "      <td>0</td>\n",
       "      <td>0</td>\n",
       "      <td>0</td>\n",
       "      <td>0</td>\n",
       "      <td>0</td>\n",
       "      <td>NaN</td>\n",
       "      <td>NaN</td>\n",
       "    </tr>\n",
       "    <tr>\n",
       "      <th>4</th>\n",
       "      <td>6/20/2017 10:58:51</td>\n",
       "      <td>Microsoft</td>\n",
       "      <td>60</td>\n",
       "      <td>Software Engineer</td>\n",
       "      <td>157000</td>\n",
       "      <td>Mountain View, CA</td>\n",
       "      <td>5.0</td>\n",
       "      <td>3.0</td>\n",
       "      <td>NaN</td>\n",
       "      <td>0.0</td>\n",
       "      <td>...</td>\n",
       "      <td>0</td>\n",
       "      <td>0</td>\n",
       "      <td>0</td>\n",
       "      <td>0</td>\n",
       "      <td>0</td>\n",
       "      <td>0</td>\n",
       "      <td>0</td>\n",
       "      <td>0</td>\n",
       "      <td>NaN</td>\n",
       "      <td>NaN</td>\n",
       "    </tr>\n",
       "  </tbody>\n",
       "</table>\n",
       "<p>5 rows × 29 columns</p>\n",
       "</div>"
      ],
      "text/plain": [
       "            timestamp    company level                         title  \\\n",
       "0   6/7/2017 11:33:27     Oracle    L3               Product Manager   \n",
       "1  6/10/2017 17:11:29       eBay  SE 2             Software Engineer   \n",
       "2  6/11/2017 14:53:57     Amazon    L7               Product Manager   \n",
       "3   6/17/2017 0:23:14      Apple    M1  Software Engineering Manager   \n",
       "4  6/20/2017 10:58:51  Microsoft    60             Software Engineer   \n",
       "\n",
       "   totalyearlycompensation           location  yearsofexperience  \\\n",
       "0                   127000   Redwood City, CA                1.5   \n",
       "1                   100000  San Francisco, CA                5.0   \n",
       "2                   310000        Seattle, WA                8.0   \n",
       "3                   372000      Sunnyvale, CA                7.0   \n",
       "4                   157000  Mountain View, CA                5.0   \n",
       "\n",
       "   yearsatcompany  tag  basesalary  ...  Doctorate_Degree  Highschool  \\\n",
       "0             1.5  NaN    107000.0  ...                 0           0   \n",
       "1             3.0  NaN         0.0  ...                 0           0   \n",
       "2             0.0  NaN    155000.0  ...                 0           0   \n",
       "3             5.0  NaN    157000.0  ...                 0           0   \n",
       "4             3.0  NaN         0.0  ...                 0           0   \n",
       "\n",
       "  Some_College Race_Asian  Race_White  Race_Two_Or_More  Race_Black  \\\n",
       "0            0          0           0                 0           0   \n",
       "1            0          0           0                 0           0   \n",
       "2            0          0           0                 0           0   \n",
       "3            0          0           0                 0           0   \n",
       "4            0          0           0                 0           0   \n",
       "\n",
       "   Race_Hispanic  Race  Education  \n",
       "0              0   NaN        NaN  \n",
       "1              0   NaN        NaN  \n",
       "2              0   NaN        NaN  \n",
       "3              0   NaN        NaN  \n",
       "4              0   NaN        NaN  \n",
       "\n",
       "[5 rows x 29 columns]"
      ]
     },
     "execution_count": 1,
     "metadata": {},
     "output_type": "execute_result"
    }
   ],
   "source": [
    "%matplotlib inline\n",
    "import matplotlib\n",
    "import pandas as pd\n",
    "import numpy as np\n",
    "import seaborn as sns\n",
    "import pylab as py\n",
    "import math as math\n",
    "from scipy.stats import chi2_contingency\n",
    "from sklearn.linear_model import LinearRegression\n",
    "\n",
    "all_companies_df = pd.read_csv(\"Levels_Fyi_Salary_Data.csv\")\n",
    "\n",
    "df = pd.read_csv(\"Levels_Fyi_Salary_Data.csv\")\n",
    "df.head()\n"
   ]
  },
  {
   "cell_type": "markdown",
   "id": "df4916f1-4e61-4796-acab-7eb8e4b88c3e",
   "metadata": {},
   "source": [
    "# Cleaning the Data\n"
   ]
  },
  {
   "cell_type": "code",
   "execution_count": 2,
   "id": "e077ff64-36e6-4cff-b8ab-0605eaf6d1a2",
   "metadata": {},
   "outputs": [
    {
     "name": "stdout",
     "output_type": "stream",
     "text": [
      "company\n",
      "10x Genomics     6\n",
      "23andMe          7\n",
      "2U               7\n",
      "3M              21\n",
      "3m               3\n",
      "                ..\n",
      "zoom             1\n",
      "zoominfo         1\n",
      "zoox             3\n",
      "zynga            1\n",
      " Google          1\n",
      "Name: timestamp, Length: 1631, dtype: int64\n"
     ]
    }
   ],
   "source": [
    "number_of_entries_by_company = df.groupby(\"company\")[\"timestamp\"].count()\n",
    "print(number_of_entries_by_company)"
   ]
  },
  {
   "cell_type": "markdown",
   "id": "b8a1b06c-26b3-41e8-a4a7-26421f4da0e2",
   "metadata": {},
   "source": [
    "Because we later want to use K-nearest neighbors to form a recommender system, we want companies with more than just a few entries. We want companies that have at least 100 entries."
   ]
  },
  {
   "cell_type": "code",
   "execution_count": 3,
   "id": "f1587eae-3070-4479-a5da-2cc30478f591",
   "metadata": {},
   "outputs": [
    {
     "name": "stdout",
     "output_type": "stream",
     "text": [
      "                totalyearlycompensation  yearsatcompany  yearsofexperience  \\\n",
      "company                                                                      \n",
      "Amazon                         227352.0             2.0                7.0   \n",
      "Apple                          277930.0             3.0                8.0   \n",
      "Bloomberg                      211050.0             2.0                5.0   \n",
      "Capital One                    148808.0             2.0                6.0   \n",
      "Cisco                          196243.0             5.0                9.0   \n",
      "Facebook                       344527.0             1.0                7.0   \n",
      "Google                         283290.0             3.0                7.0   \n",
      "IBM                            137724.0             4.0                7.0   \n",
      "Intel                          180525.0             7.0                9.0   \n",
      "JPMorgan Chase                 136250.0             3.0                7.0   \n",
      "LinkedIn                       307680.0             2.0                7.0   \n",
      "Microsoft                      208501.0             4.0                8.0   \n",
      "Oracle                         212571.0             3.0                9.0   \n",
      "Qualcomm                       191547.0             5.0                8.0   \n",
      "Salesforce                     260550.0             2.0                9.0   \n",
      "Uber                           304648.0             2.0                7.0   \n",
      "VMware                         214721.0             3.0                9.0   \n",
      "\n",
      "                counts  \n",
      "company                 \n",
      "Amazon            8126  \n",
      "Apple             2028  \n",
      "Bloomberg          537  \n",
      "Capital One        778  \n",
      "Cisco              907  \n",
      "Facebook          2990  \n",
      "Google            4330  \n",
      "IBM                907  \n",
      "Intel              949  \n",
      "JPMorgan Chase     541  \n",
      "LinkedIn           701  \n",
      "Microsoft         5216  \n",
      "Oracle            1128  \n",
      "Qualcomm           565  \n",
      "Salesforce        1056  \n",
      "Uber               880  \n",
      "VMware             657  \n"
     ]
    }
   ],
   "source": [
    "statistics_by_company_df = np.round(pd.pivot_table(df, index = [\"company\"], values = [\"totalyearlycompensation\", \"yearsofexperience\", \"yearsatcompany\"], aggfunc='mean'))\n",
    "\n",
    "statistics_by_company_df['counts'] = number_of_entries_by_company\n",
    "statistics_by_company_df = statistics_by_company_df[~(statistics_by_company_df['counts'] <= 500)] # Limits the number of companies by removing companies with 500 or less rows in the dataset.\n",
    "\n",
    "print(statistics_by_company_df)\n"
   ]
  },
  {
   "cell_type": "code",
   "execution_count": 4,
   "id": "c8437d9b-890d-4899-bce4-12e94fe498f2",
   "metadata": {},
   "outputs": [
    {
     "data": {
      "text/html": [
       "<div>\n",
       "<style scoped>\n",
       "    .dataframe tbody tr th:only-of-type {\n",
       "        vertical-align: middle;\n",
       "    }\n",
       "\n",
       "    .dataframe tbody tr th {\n",
       "        vertical-align: top;\n",
       "    }\n",
       "\n",
       "    .dataframe thead th {\n",
       "        text-align: right;\n",
       "    }\n",
       "</style>\n",
       "<table border=\"1\" class=\"dataframe\">\n",
       "  <thead>\n",
       "    <tr style=\"text-align: right;\">\n",
       "      <th></th>\n",
       "      <th>timestamp</th>\n",
       "      <th>company</th>\n",
       "      <th>level</th>\n",
       "      <th>title</th>\n",
       "      <th>totalyearlycompensation</th>\n",
       "      <th>location</th>\n",
       "      <th>yearsofexperience</th>\n",
       "      <th>yearsatcompany</th>\n",
       "      <th>tag</th>\n",
       "      <th>basesalary</th>\n",
       "      <th>...</th>\n",
       "      <th>Doctorate_Degree</th>\n",
       "      <th>Highschool</th>\n",
       "      <th>Some_College</th>\n",
       "      <th>Race_Asian</th>\n",
       "      <th>Race_White</th>\n",
       "      <th>Race_Two_Or_More</th>\n",
       "      <th>Race_Black</th>\n",
       "      <th>Race_Hispanic</th>\n",
       "      <th>Race</th>\n",
       "      <th>Education</th>\n",
       "    </tr>\n",
       "  </thead>\n",
       "  <tbody>\n",
       "    <tr>\n",
       "      <th>0</th>\n",
       "      <td>6/7/2017 11:33:27</td>\n",
       "      <td>Oracle</td>\n",
       "      <td>L3</td>\n",
       "      <td>Product Manager</td>\n",
       "      <td>127000</td>\n",
       "      <td>Redwood City, CA</td>\n",
       "      <td>1.5</td>\n",
       "      <td>1.5</td>\n",
       "      <td>NaN</td>\n",
       "      <td>107000.0</td>\n",
       "      <td>...</td>\n",
       "      <td>0</td>\n",
       "      <td>0</td>\n",
       "      <td>0</td>\n",
       "      <td>0</td>\n",
       "      <td>0</td>\n",
       "      <td>0</td>\n",
       "      <td>0</td>\n",
       "      <td>0</td>\n",
       "      <td>NaN</td>\n",
       "      <td>NaN</td>\n",
       "    </tr>\n",
       "    <tr>\n",
       "      <th>2</th>\n",
       "      <td>6/11/2017 14:53:57</td>\n",
       "      <td>Amazon</td>\n",
       "      <td>L7</td>\n",
       "      <td>Product Manager</td>\n",
       "      <td>310000</td>\n",
       "      <td>Seattle, WA</td>\n",
       "      <td>8.0</td>\n",
       "      <td>0.0</td>\n",
       "      <td>NaN</td>\n",
       "      <td>155000.0</td>\n",
       "      <td>...</td>\n",
       "      <td>0</td>\n",
       "      <td>0</td>\n",
       "      <td>0</td>\n",
       "      <td>0</td>\n",
       "      <td>0</td>\n",
       "      <td>0</td>\n",
       "      <td>0</td>\n",
       "      <td>0</td>\n",
       "      <td>NaN</td>\n",
       "      <td>NaN</td>\n",
       "    </tr>\n",
       "    <tr>\n",
       "      <th>3</th>\n",
       "      <td>6/17/2017 0:23:14</td>\n",
       "      <td>Apple</td>\n",
       "      <td>M1</td>\n",
       "      <td>Software Engineering Manager</td>\n",
       "      <td>372000</td>\n",
       "      <td>Sunnyvale, CA</td>\n",
       "      <td>7.0</td>\n",
       "      <td>5.0</td>\n",
       "      <td>NaN</td>\n",
       "      <td>157000.0</td>\n",
       "      <td>...</td>\n",
       "      <td>0</td>\n",
       "      <td>0</td>\n",
       "      <td>0</td>\n",
       "      <td>0</td>\n",
       "      <td>0</td>\n",
       "      <td>0</td>\n",
       "      <td>0</td>\n",
       "      <td>0</td>\n",
       "      <td>NaN</td>\n",
       "      <td>NaN</td>\n",
       "    </tr>\n",
       "    <tr>\n",
       "      <th>4</th>\n",
       "      <td>6/20/2017 10:58:51</td>\n",
       "      <td>Microsoft</td>\n",
       "      <td>60</td>\n",
       "      <td>Software Engineer</td>\n",
       "      <td>157000</td>\n",
       "      <td>Mountain View, CA</td>\n",
       "      <td>5.0</td>\n",
       "      <td>3.0</td>\n",
       "      <td>NaN</td>\n",
       "      <td>0.0</td>\n",
       "      <td>...</td>\n",
       "      <td>0</td>\n",
       "      <td>0</td>\n",
       "      <td>0</td>\n",
       "      <td>0</td>\n",
       "      <td>0</td>\n",
       "      <td>0</td>\n",
       "      <td>0</td>\n",
       "      <td>0</td>\n",
       "      <td>NaN</td>\n",
       "      <td>NaN</td>\n",
       "    </tr>\n",
       "    <tr>\n",
       "      <th>5</th>\n",
       "      <td>6/21/2017 17:27:47</td>\n",
       "      <td>Microsoft</td>\n",
       "      <td>63</td>\n",
       "      <td>Software Engineer</td>\n",
       "      <td>208000</td>\n",
       "      <td>Seattle, WA</td>\n",
       "      <td>8.5</td>\n",
       "      <td>8.5</td>\n",
       "      <td>NaN</td>\n",
       "      <td>0.0</td>\n",
       "      <td>...</td>\n",
       "      <td>0</td>\n",
       "      <td>0</td>\n",
       "      <td>0</td>\n",
       "      <td>0</td>\n",
       "      <td>0</td>\n",
       "      <td>0</td>\n",
       "      <td>0</td>\n",
       "      <td>0</td>\n",
       "      <td>NaN</td>\n",
       "      <td>NaN</td>\n",
       "    </tr>\n",
       "  </tbody>\n",
       "</table>\n",
       "<p>5 rows × 29 columns</p>\n",
       "</div>"
      ],
      "text/plain": [
       "            timestamp    company level                         title  \\\n",
       "0   6/7/2017 11:33:27     Oracle    L3               Product Manager   \n",
       "2  6/11/2017 14:53:57     Amazon    L7               Product Manager   \n",
       "3   6/17/2017 0:23:14      Apple    M1  Software Engineering Manager   \n",
       "4  6/20/2017 10:58:51  Microsoft    60             Software Engineer   \n",
       "5  6/21/2017 17:27:47  Microsoft    63             Software Engineer   \n",
       "\n",
       "   totalyearlycompensation           location  yearsofexperience  \\\n",
       "0                   127000   Redwood City, CA                1.5   \n",
       "2                   310000        Seattle, WA                8.0   \n",
       "3                   372000      Sunnyvale, CA                7.0   \n",
       "4                   157000  Mountain View, CA                5.0   \n",
       "5                   208000        Seattle, WA                8.5   \n",
       "\n",
       "   yearsatcompany  tag  basesalary  ...  Doctorate_Degree  Highschool  \\\n",
       "0             1.5  NaN    107000.0  ...                 0           0   \n",
       "2             0.0  NaN    155000.0  ...                 0           0   \n",
       "3             5.0  NaN    157000.0  ...                 0           0   \n",
       "4             3.0  NaN         0.0  ...                 0           0   \n",
       "5             8.5  NaN         0.0  ...                 0           0   \n",
       "\n",
       "  Some_College Race_Asian  Race_White  Race_Two_Or_More  Race_Black  \\\n",
       "0            0          0           0                 0           0   \n",
       "2            0          0           0                 0           0   \n",
       "3            0          0           0                 0           0   \n",
       "4            0          0           0                 0           0   \n",
       "5            0          0           0                 0           0   \n",
       "\n",
       "   Race_Hispanic  Race  Education  \n",
       "0              0   NaN        NaN  \n",
       "2              0   NaN        NaN  \n",
       "3              0   NaN        NaN  \n",
       "4              0   NaN        NaN  \n",
       "5              0   NaN        NaN  \n",
       "\n",
       "[5 rows x 29 columns]"
      ]
     },
     "execution_count": 4,
     "metadata": {},
     "output_type": "execute_result"
    }
   ],
   "source": [
    "# Removing Companies from DF irrelevant for analysis\n",
    "mask = df['company'].isin(statistics_by_company_df.index)\n",
    "df = df[mask]\n",
    "df.head()\n"
   ]
  },
  {
   "cell_type": "markdown",
   "id": "185fe0dc-899b-48d3-b70a-48a0e2a1d954",
   "metadata": {},
   "source": [
    "# Getting a feel for the Data"
   ]
  },
  {
   "cell_type": "code",
   "execution_count": 5,
   "id": "b6d4d29b-0d52-4ebb-8a69-df130d89e60a",
   "metadata": {},
   "outputs": [
    {
     "name": "stdout",
     "output_type": "stream",
     "text": [
      "Yearly Compensation:\n",
      "  - Min: 10000\n",
      "  - Max: 4980000\n",
      "  - Standard Deviation: 145791.82884859652\n",
      "  - Mean: 240911.02322269013\n",
      "\n",
      "Years of Experience:\n",
      "  - Min: 0.0\n",
      "  - Max: 45.0\n",
      "  - Standard Deviation: 6.120999884216619\n",
      "  - Mean: 7.465093200396334\n",
      "\n",
      "Years at Company:\n",
      "  - Min: 0.0\n",
      "  - Max: 34.0\n",
      "  - Standard Deviation: 3.495071362546766\n",
      "  - Mean: 2.831256997770622\n",
      "\n"
     ]
    }
   ],
   "source": [
    "overall_statistics = [\n",
    "                      [df['totalyearlycompensation'].min(),\n",
    "                      df['totalyearlycompensation'].max(),\n",
    "                      df['totalyearlycompensation'].std(),\n",
    "                      df['totalyearlycompensation'].mean()\n",
    "                      ], \n",
    "                      [df['yearsofexperience'].min(),\n",
    "                       df['yearsofexperience'].max(),\n",
    "                       df['yearsofexperience'].std(),\n",
    "                       df['yearsofexperience'].mean()\n",
    "                      ], \n",
    "                      [df['yearsatcompany'].min(),\n",
    "                       df['yearsatcompany'].max(),\n",
    "                       df['yearsatcompany'].std(),\n",
    "                       df['yearsatcompany'].mean()\n",
    "                      ]\n",
    "                     ]\n",
    "\n",
    "type_names = ['Yearly Compensation', 'Years of Experience', 'Years at Company']\n",
    "statistic_names = ['Min', 'Max', 'Standard Deviation', 'Mean']\n",
    "\n",
    "index_outer = 0;\n",
    "for i in type_names:\n",
    "    print(i + ':')\n",
    "    index_inner = 0;\n",
    "    for j in statistic_names:\n",
    "        print('  - ' + j + ': ' + str(overall_statistics[index_outer][index_inner]))\n",
    "        index_inner += 1;\n",
    "    index_outer += 1;\n",
    "    print('')\n",
    "    "
   ]
  },
  {
   "cell_type": "code",
   "execution_count": 6,
   "id": "43f286fc-7efa-4748-b606-385d4961f57b",
   "metadata": {},
   "outputs": [
    {
     "data": {
      "text/plain": [
       "<AxesSubplot:xlabel='company'>"
      ]
     },
     "execution_count": 6,
     "metadata": {},
     "output_type": "execute_result"
    },
    {
     "data": {
      "image/png": "[encoded data removed]",
      "text/plain": [
       "<Figure size 432x288 with 1 Axes>"
      ]
     },
     "metadata": {
      "needs_background": "light"
     },
     "output_type": "display_data"
    }
   ],
   "source": [
    "statistics_by_company_df.plot.bar(y='totalyearlycompensation')"
   ]
  },
  {
   "cell_type": "code",
   "execution_count": 7,
   "id": "687d2ea3-8c0b-424a-b044-1dd9d2379ca7",
   "metadata": {},
   "outputs": [
    {
     "data": {
      "text/plain": [
       "<AxesSubplot:xlabel='company'>"
      ]
     },
     "execution_count": 7,
     "metadata": {},
     "output_type": "execute_result"
    },
    {
     "data": {
      "image/png": "[encoded data removed]",
      "text/plain": [
       "<Figure size 432x288 with 1 Axes>"
      ]
     },
     "metadata": {
      "needs_background": "light"
     },
     "output_type": "display_data"
    }
   ],
   "source": [
    "statistics_by_company_df.plot.bar(y='yearsatcompany')"
   ]
  },
  {
   "cell_type": "code",
   "execution_count": 8,
   "id": "f0cd0d19-9a77-49c7-990e-0ea8692139ba",
   "metadata": {},
   "outputs": [
    {
     "data": {
      "text/plain": [
       "<AxesSubplot:xlabel='company'>"
      ]
     },
     "execution_count": 8,
     "metadata": {},
     "output_type": "execute_result"
    },
    {
     "data": {
      "image/png": "[encoded data removed]",
      "text/plain": [
       "<Figure size 432x288 with 1 Axes>"
      ]
     },
     "metadata": {
      "needs_background": "light"
     },
     "output_type": "display_data"
    }
   ],
   "source": [
    "statistics_by_company_df.plot.bar(y='yearsofexperience')"
   ]
  },
  {
   "cell_type": "code",
   "execution_count": 9,
   "id": "d0541cdd-74ae-4b3a-b9a7-52670f853343",
   "metadata": {},
   "outputs": [
    {
     "data": {
      "text/plain": [
       "<AxesSubplot:xlabel='company'>"
      ]
     },
     "execution_count": 9,
     "metadata": {},
     "output_type": "execute_result"
    },
    {
     "data": {
      "image/png": "[encoded data removed]",
      "text/plain": [
       "<Figure size 432x288 with 1 Axes>"
      ]
     },
     "metadata": {
      "needs_background": "light"
     },
     "output_type": "display_data"
    }
   ],
   "source": [
    "statistics_by_company_df.plot.bar(y='counts')"
   ]
  },
  {
   "cell_type": "markdown",
   "id": "3a72b1a3-2209-4870-8cf3-0df3b385b1cd",
   "metadata": {},
   "source": [
    "# Distribution of Education"
   ]
  },
  {
   "cell_type": "code",
   "execution_count": 10,
   "id": "ee5f1171-86f2-4969-9932-f9379fddddca",
   "metadata": {},
   "outputs": [
    {
     "name": "stdout",
     "output_type": "stream",
     "text": [
      "Doctorate: 1114 | Masters: 7984 | Bachelors: 5465 \n",
      "\n",
      "Some_College      0    1  Number of Degrees\n",
      "num_degrees                                \n",
      "0             17656  140              17796\n",
      "1             14437    0              14437\n",
      "2                63    0                 63 \n",
      "\n",
      " Highschool       0    1\n",
      "num_degrees            \n",
      "0            17664  132\n",
      "1            14437    0\n",
      "2               63    0 \n",
      "\n"
     ]
    },
    {
     "data": {
      "text/plain": [
       "<AxesSubplot:>"
      ]
     },
     "execution_count": 10,
     "metadata": {},
     "output_type": "execute_result"
    },
    {
     "data": {
      "image/png": "[encoded data removed]",
      "text/plain": [
       "<Figure size 1440x720 with 1 Axes>"
      ]
     },
     "metadata": {},
     "output_type": "display_data"
    },
    {
     "data": {
      "image/png": "[encoded data removed]",
      "text/plain": [
       "<Figure size 1440x720 with 1 Axes>"
      ]
     },
     "metadata": {},
     "output_type": "display_data"
    }
   ],
   "source": [
    "df[\"num_degrees\"] = df[\"Bachelors_Degree\"] + df[\"Masters_Degree\"] + df[\"Doctorate_Degree\"]\n",
    "\n",
    "education_pivot_some_college = pd.crosstab(df['num_degrees'], df['Some_College'])\n",
    "education_pivot_highschool = pd.crosstab(df['num_degrees'], df['Highschool'])\n",
    "\n",
    "highschool_sum = df['Highschool'].sum()\n",
    "some_college_sum = df['Some_College'].sum()\n",
    "doctorate_sum = df['Doctorate_Degree'].sum()\n",
    "masters_sum = df['Masters_Degree'].sum()\n",
    "bachelors_sum = df['Bachelors_Degree'].sum()\n",
    "\n",
    "print('Doctorate: ' + str(doctorate_sum) + ' | Masters: ' + str(masters_sum) + ' | Bachelors: ' + str(bachelors_sum), '\\n')\n",
    "\n",
    "education_pivot_some_college['Number of Degrees'] = education_pivot_some_college[0] + education_pivot_some_college[1]\n",
    "\n",
    "print(education_pivot_some_college, '\\n\\n', education_pivot_highschool, '\\n')\n",
    "\n",
    "# Seeing if multiple have degrees have been Marked for a significant portion of sample (Not really, refer to second pie chart for more usable data)\n",
    "education_pivot_some_college.plot.pie(y='Number of Degrees', ylabel='', figsize=(20, 10))\n",
    "\n",
    "# Comparing the Highest Education People Received\n",
    "data = [['Bachelors', bachelors_sum], ['Masters', masters_sum], ['Doctorate', doctorate_sum], ['High School', highschool_sum], ['Some College', some_college_sum]]\n",
    "education_df = pd.DataFrame(data, columns = ['Type of Degree', 'Counts'])\n",
    "education_df.set_index('Type of Degree', inplace=True)\n",
    "\n",
    "education_df.plot.pie(y='Counts', figsize=(20, 10), ylabel='', autopct='%1.1f%%', fontsize=11)"
   ]
  },
  {
   "cell_type": "markdown",
   "id": "7efbdd7c-f1a9-4677-a359-9e28f226b86b",
   "metadata": {},
   "source": [
    "A surprising amount of the workforce at these larger companies has a master's degree over a bachelors degree. We initially attempted to compare the number of degrees people have but it seems most people who filled out the survey only the selected the highest amount of education they receivied. We decided to shift some of our analysis to be based off of their highest level of education."
   ]
  },
  {
   "cell_type": "markdown",
   "id": "2c360ec7-486e-4913-bcd6-17e934c95087",
   "metadata": {},
   "source": [
    "# Predict Yearly Income Based on Multiple Factors"
   ]
  },
  {
   "cell_type": "markdown",
   "id": "0986b217-4150-42d0-8489-e6c393211e26",
   "metadata": {},
   "source": [
    "### How do Years of Experience, Years at a Company, and the Number of Degrees you have affect Yearly Income?"
   ]
  },
  {
   "cell_type": "code",
   "execution_count": 11,
   "id": "cc5de204-97ec-4f5a-a96a-d91c8d4bee2b",
   "metadata": {},
   "outputs": [
    {
     "name": "stdout",
     "output_type": "stream",
     "text": [
      "32296\n",
      "[11176.746204   -1612.76711213  4861.33217403] 167396.79079127536 \n",
      "\n",
      " 202562.8273530375\n"
     ]
    }
   ],
   "source": [
    "print(len(df.index))\n",
    "\n",
    "train = df.loc[:(len(df.index) * 0.8)].copy()\n",
    "test = df.loc[(len(df.index) * 0.8 + 1):].copy()\n",
    "\n",
    "model = LinearRegression()\n",
    "model.fit(\n",
    "    X=train[['yearsofexperience', 'yearsatcompany', 'num_degrees']],\n",
    "    y=train['totalyearlycompensation']\n",
    ")\n",
    "\n",
    "model.predict(\n",
    "    X=test[['yearsofexperience', 'yearsatcompany', 'num_degrees']]\n",
    ")\n",
    "\n",
    "print(model.coef_, model.intercept_, '\\n\\n', 3 * model.coef_[0] + 2 * model.coef_[1] + 1 * model.coef_[2] + model.intercept_)\n"
   ]
  },
  {
   "cell_type": "markdown",
   "id": "bc0a60af-87e7-4e9a-9f75-eb7228b1d09a",
   "metadata": {},
   "source": [
    "Years of experience have the greatest positive impact on pay while the number of years spent at a company has the greatest negative impact. Having a degree does not seem nearly as important as having years of experience in the longrun."
   ]
  },
  {
   "cell_type": "markdown",
   "id": "9dac6a3d-cc61-4584-88d9-49de51ba5927",
   "metadata": {},
   "source": [
    "### Based on the factors of your choice, what might your pay look like?"
   ]
  },
  {
   "cell_type": "code",
   "execution_count": 29,
   "id": "e4e7f7b7-6b28-4e83-9e77-4d6027c4ff55",
   "metadata": {},
   "outputs": [
    {
     "name": "stdout",
     "output_type": "stream",
     "text": [
      "[ 1.5   8.    7.    5.    8.5  15.    4.    3.   12.   16.   10.    1.\n",
      "  9.    2.   17.   14.    6.   20.   28.   13.   19.    0.5  11.    0.\n",
      " 11.5   3.5   6.5  18.    2.5  21.    3.8   0.8   6.75 37.   24.   25.\n",
      " 30.    5.5  32.   26.   23.   34.   27.   35.   22.   29.   33.   40.\n",
      " 39.   31.   42.   41.    0.25 36.   38.   45.    4.5   0.6   1.4  10.5 ]\n"
     ]
    },
    {
     "name": "stdin",
     "output_type": "stream",
     "text": [
      "How many years of experience? 2\n"
     ]
    },
    {
     "name": "stdout",
     "output_type": "stream",
     "text": [
      "[ 1.5    0.     5.     3.     8.5   11.     4.     1.     6.    10.\n",
      "  7.     2.     9.    15.    12.    17.     1.25   0.5    6.5    3.5\n",
      "  5.5    8.     0.25   2.5   13.     3.8   18.    20.     4.5    2.75\n",
      " 21.     0.1    4.4   16.     0.8   14.    30.    25.    19.     0.3\n",
      "  7.5   15.5    0.6   24.     0.2    4.75   3.7    1.6    2.4    0.85\n",
      "  1.8   34.     1.75   2.9    1.1    2.7    2.8   22.    26.     2.6\n",
      "  0.33   4.8    2.3    0.7    1.2    4.2    3.3   23.    27.    28.\n",
      " 33.     1.666  1.4  ]\n"
     ]
    },
    {
     "name": "stdin",
     "output_type": "stream",
     "text": [
      "How many years at the company? 0\n"
     ]
    },
    {
     "name": "stdout",
     "output_type": "stream",
     "text": [
      "['Redwood City, CA' 'Seattle, WA' 'Sunnyvale, CA' 'Mountain View, CA'\n",
      " 'Redmond, WA' 'San Francisco, CA' 'Bellevue, WA' 'Menlo Park, CA'\n",
      " 'London, EN, United Kingdom' 'Cupertino, CA' 'New York, NY'\n",
      " 'Dublin, DN, Ireland' 'Hillsboro, OR' 'Cambridge, EN, United Kingdom'\n",
      " 'Bangalore, KA, India' 'San Jose, CA' 'Washington, DC' 'Austin, TX'\n",
      " 'Boston, MA' 'San Diego, CA']\n"
     ]
    },
    {
     "name": "stdin",
     "output_type": "stream",
     "text": [
      "Location? Seattle, WA\n"
     ]
    },
    {
     "name": "stdout",
     "output_type": "stream",
     "text": [
      "['Oracle' 'Amazon' 'Apple' 'Microsoft' 'Salesforce' 'Facebook' 'Uber'\n",
      " 'Google' 'LinkedIn' 'Intel' 'Cisco' 'IBM' 'Qualcomm' 'Bloomberg'\n",
      " 'Capital One' 'VMware' 'JPMorgan Chase']\n"
     ]
    },
    {
     "name": "stdin",
     "output_type": "stream",
     "text": [
      "Company? Amazon\n"
     ]
    },
    {
     "name": "stdout",
     "output_type": "stream",
     "text": [
      "['Product Manager' 'Software Engineering Manager' 'Software Engineer'\n",
      " 'Data Scientist' 'Solution Architect' 'Technical Program Manager'\n",
      " 'Human Resources' 'Product Designer' 'Marketing' 'Business Analyst'\n",
      " 'Hardware Engineer' 'Recruiter' 'Sales' 'Mechanical Engineer'\n",
      " 'Management Consultant']\n"
     ]
    },
    {
     "name": "stdin",
     "output_type": "stream",
     "text": [
      "Title? Software Engineer\n"
     ]
    }
   ],
   "source": [
    "standard_inputs_list = [\"yearsofexperience\", \"yearsatcompany\"]\n",
    "one_hot_inputs_list = [\"location\", \"company\", \"title\"]\n",
    "all_inputs_list = [\"yearsofexperience\", \"yearsatcompany\", \"location\", \"company\", \"title\"]\n",
    "questions_for_user = [\"How many years of experience?\", \"How many years at the company?\", \"Location?\", \"Company?\", \"Title?\"]\n",
    "\n",
    "user_entries = []\n",
    "\n",
    "index = 0\n",
    "for i in questions_for_user:\n",
    "    elements = df[all_inputs_list[index]].unique()\n",
    "    if(len(elements) > 100):\n",
    "        print(elements[:20])\n",
    "    else:\n",
    "        print(elements)\n",
    "    user_entries.append(input(i))\n",
    "    index += 1\n",
    "    \n",
    "standard_features = []\n",
    "one_hot_features = []\n",
    "all_features = []\n",
    "    \n",
    "if (user_entries[0] != ''):\n",
    "    standard_features.append(standard_inputs_list[0])\n",
    "    all_features.append(standard_inputs_list[0])\n",
    "if (user_entries[1] != ''):\n",
    "    standard_features.append(standard_inputs_list[1])\n",
    "    all_features.append(standard_inputs_list[1])\n",
    "if (user_entries[2] != ''):\n",
    "    one_hot_features.append(one_hot_inputs_list[0])\n",
    "    all_features.append(one_hot_inputs_list[0])\n",
    "if (user_entries[3] != ''):\n",
    "    one_hot_features.append(one_hot_inputs_list[1])\n",
    "    all_features.append(one_hot_inputs_list[1])\n",
    "if (user_entries[4] != ''):\n",
    "    one_hot_features.append(one_hot_inputs_list[2])\n",
    "    all_features.append(one_hot_inputs_list[2])"
   ]
  },
  {
   "cell_type": "code",
   "execution_count": 30,
   "id": "f4e11604-af1c-46f0-8277-ab1d462e4914",
   "metadata": {},
   "outputs": [
    {
     "name": "stdout",
     "output_type": "stream",
     "text": [
      "[187600.]\n"
     ]
    }
   ],
   "source": [
    "from sklearn.compose import make_column_transformer\n",
    "from sklearn.preprocessing import StandardScaler, OneHotEncoder\n",
    "\n",
    "if (len(standard_features) == 0 and len(one_hot_features) == 0):\n",
    "    print('Cannot Perform Regression with No Features')\n",
    "else:\n",
    "    if (len(standard_features) != 0 and len(one_hot_features) != 0):\n",
    "        ct = make_column_transformer(\n",
    "            (StandardScaler(), standard_features),\n",
    "            (OneHotEncoder(), one_hot_features),\n",
    "            remainder=\"drop\"  # all other columns in X will be dropped.\n",
    "        )\n",
    "    elif (len(standard_features)):\n",
    "        ct = make_column_transformer(\n",
    "            (StandardScaler(), standard_features),\n",
    "            remainder=\"drop\"  # all other columns in X will be dropped.\n",
    "        )\n",
    "    elif (len(one_hot_features) != 0):\n",
    "            ct = make_column_transformer(\n",
    "            (OneHotEncoder(), one_hot_features),\n",
    "            remainder=\"drop\"  # all other columns in X will be dropped.\n",
    "        )\n",
    "    else:\n",
    "        print('Cannot Perform Operation')\n",
    "\n",
    "\n",
    "    from sklearn.pipeline import make_pipeline\n",
    "    from sklearn.neighbors import KNeighborsRegressor\n",
    "\n",
    "    pipeline = make_pipeline(\n",
    "        ct,\n",
    "        KNeighborsRegressor(n_neighbors=10)\n",
    "    )\n",
    "\n",
    "    pipeline.fit(X=df[all_features], \n",
    "                 y=df[\"totalyearlycompensation\"])\n",
    "\n",
    "    x_test = pd.Series(dtype=float)\n",
    "    if (user_entries[0] != ''):\n",
    "        x_test[\"yearsofexperience\"] = user_entries[0]\n",
    "    if (user_entries[1] != ''):\n",
    "        x_test[\"yearsatcompany\"] = user_entries[1]\n",
    "    if (user_entries[2] != ''):\n",
    "        x_test[\"location\"] = user_entries[2]\n",
    "    if (user_entries[3] != ''):\n",
    "        x_test[\"company\"] = user_entries[3]\n",
    "    if (user_entries[4] != ''):\n",
    "        x_test[\"title\"] = user_entries[4]\n",
    "\n",
    "    print(pipeline.predict(X=pd.DataFrame([x_test])))"
   ]
  },
  {
   "cell_type": "markdown",
   "id": "2427f705-6f7a-4665-a7f8-1371d880e43d",
   "metadata": {},
   "source": [
    "This regression was built with the idea that you can choose the factors that describe what you want from your job and predict the total yearly compensation of it. You have the option to inout how many years of experience you have, how long you have spent at a company, your desired location, the company you want to work for, and your title. At the very least, the number of years of experience should be input to get an idea of pay for your years of experience. Other factors can contribute to a higher or lower pay but every regression is different based on the factors you choose."
   ]
  },
  {
   "cell_type": "markdown",
   "id": "00704ec9-4eb7-4f3d-91fb-05a8e76abb36",
   "metadata": {},
   "source": [
    "### How does pay vary with the amount of Education Received?"
   ]
  },
  {
   "cell_type": "code",
   "execution_count": 14,
   "id": "ba75367f-45d1-44d9-a9e3-ac3b2c4ad454",
   "metadata": {},
   "outputs": [
    {
     "data": {
      "text/plain": [
       "<AxesSubplot:xlabel='Type of Degree'>"
      ]
     },
     "execution_count": 14,
     "metadata": {},
     "output_type": "execute_result"
    },
    {
     "data": {
      "image/png": "[encoded data removed]",
      "text/plain": [
       "<Figure size 432x288 with 1 Axes>"
      ]
     },
     "metadata": {
      "needs_background": "light"
     },
     "output_type": "display_data"
    }
   ],
   "source": [
    "doctorate_df = df[~(df['Doctorate_Degree'] == 0)]\n",
    "masters_df = df[~(df['Masters_Degree'] == 0)]\n",
    "bachelors_df = df[~(df['Bachelors_Degree'] == 0)]\n",
    "highschool_df = df[~(df['Highschool'] == 0)]\n",
    "some_college_df = df[~(df['Some_College'] == 0)]\n",
    "\n",
    "avg_of_doctorate = doctorate_df['totalyearlycompensation'].mean()\n",
    "avg_of_masters = masters_df['totalyearlycompensation'].mean()\n",
    "avg_of_bachelors = bachelors_df['totalyearlycompensation'].mean()\n",
    "avg_of_some_college = some_college_df['totalyearlycompensation'].mean()\n",
    "avg_of_highschool = highschool_df['totalyearlycompensation'].mean()\n",
    "\n",
    "data = [['High School', avg_of_highschool], ['Some College', avg_of_some_college], ['Bachelors', avg_of_bachelors], ['Masters', avg_of_masters], ['Doctorate', avg_of_doctorate]]\n",
    "degree_df = pd.DataFrame(data, columns = ['Type of Degree', 'Averages of Pay'])\n",
    "degree_df.set_index('Type of Degree', inplace=True)\n",
    "\n",
    "degree_df.plot.bar()"
   ]
  },
  {
   "cell_type": "markdown",
   "id": "8342169f-a1bd-4101-b829-50f996c64eee",
   "metadata": {},
   "source": [
    "On average, having completed a high school education or having some college can result in a pay similar to that of a Master's degree. These are probably exceptional cases in which people have taken it on themselves to become really good at their field. Otherwise, pay clearly increases the further into you college education you go with Bachelors degrees getting paid least and Doctorates the most."
   ]
  },
  {
   "cell_type": "markdown",
   "id": "527ab102-57b9-4950-8067-cc24c508bffb",
   "metadata": {},
   "source": [
    "# Correlation Analysis"
   ]
  },
  {
   "cell_type": "code",
   "execution_count": 22,
   "id": "fb66f471-d371-46f9-a01a-2a732f71111f",
   "metadata": {},
   "outputs": [
    {
     "data": {
      "text/html": [
       "<div>\n",
       "<style scoped>\n",
       "    .dataframe tbody tr th:only-of-type {\n",
       "        vertical-align: middle;\n",
       "    }\n",
       "\n",
       "    .dataframe tbody tr th {\n",
       "        vertical-align: top;\n",
       "    }\n",
       "\n",
       "    .dataframe thead th {\n",
       "        text-align: right;\n",
       "    }\n",
       "</style>\n",
       "<table border=\"1\" class=\"dataframe\">\n",
       "  <thead>\n",
       "    <tr style=\"text-align: right;\">\n",
       "      <th></th>\n",
       "      <th>timestamp</th>\n",
       "      <th>company</th>\n",
       "      <th>level</th>\n",
       "      <th>title</th>\n",
       "      <th>totalyearlycompensation</th>\n",
       "      <th>location</th>\n",
       "      <th>yearsofexperience</th>\n",
       "      <th>yearsatcompany</th>\n",
       "      <th>tag</th>\n",
       "      <th>basesalary</th>\n",
       "      <th>...</th>\n",
       "      <th>Highschool</th>\n",
       "      <th>Some_College</th>\n",
       "      <th>Race_Asian</th>\n",
       "      <th>Race_White</th>\n",
       "      <th>Race_Two_Or_More</th>\n",
       "      <th>Race_Black</th>\n",
       "      <th>Race_Hispanic</th>\n",
       "      <th>Race</th>\n",
       "      <th>Education</th>\n",
       "      <th>num_degrees</th>\n",
       "    </tr>\n",
       "  </thead>\n",
       "  <tbody>\n",
       "    <tr>\n",
       "      <th>13195</th>\n",
       "      <td>11/18/2019 16:57:40</td>\n",
       "      <td>Qualcomm</td>\n",
       "      <td>Senior Staff Engineer</td>\n",
       "      <td>Hardware Engineer</td>\n",
       "      <td>280000</td>\n",
       "      <td>San Diego, CA</td>\n",
       "      <td>23.0</td>\n",
       "      <td>6.0</td>\n",
       "      <td>RFIC</td>\n",
       "      <td>170000.0</td>\n",
       "      <td>...</td>\n",
       "      <td>0</td>\n",
       "      <td>0</td>\n",
       "      <td>0</td>\n",
       "      <td>0</td>\n",
       "      <td>0</td>\n",
       "      <td>0</td>\n",
       "      <td>0</td>\n",
       "      <td>NaN</td>\n",
       "      <td>Master's Degree</td>\n",
       "      <td>1</td>\n",
       "    </tr>\n",
       "    <tr>\n",
       "      <th>36446</th>\n",
       "      <td>12/2/2020 17:48:33</td>\n",
       "      <td>Google</td>\n",
       "      <td>L5</td>\n",
       "      <td>Software Engineer</td>\n",
       "      <td>396000</td>\n",
       "      <td>San Francisco, CA</td>\n",
       "      <td>8.0</td>\n",
       "      <td>3.0</td>\n",
       "      <td>ML / AI</td>\n",
       "      <td>202000.0</td>\n",
       "      <td>...</td>\n",
       "      <td>0</td>\n",
       "      <td>0</td>\n",
       "      <td>0</td>\n",
       "      <td>1</td>\n",
       "      <td>0</td>\n",
       "      <td>0</td>\n",
       "      <td>0</td>\n",
       "      <td>White</td>\n",
       "      <td>PhD</td>\n",
       "      <td>1</td>\n",
       "    </tr>\n",
       "    <tr>\n",
       "      <th>54893</th>\n",
       "      <td>6/18/2021 11:39:27</td>\n",
       "      <td>Amazon</td>\n",
       "      <td>L6</td>\n",
       "      <td>Software Engineer</td>\n",
       "      <td>320000</td>\n",
       "      <td>Seattle, WA</td>\n",
       "      <td>8.0</td>\n",
       "      <td>8.0</td>\n",
       "      <td>Distributed Systems (Back-End)</td>\n",
       "      <td>160000.0</td>\n",
       "      <td>...</td>\n",
       "      <td>0</td>\n",
       "      <td>0</td>\n",
       "      <td>0</td>\n",
       "      <td>1</td>\n",
       "      <td>0</td>\n",
       "      <td>0</td>\n",
       "      <td>0</td>\n",
       "      <td>White</td>\n",
       "      <td>Master's Degree</td>\n",
       "      <td>1</td>\n",
       "    </tr>\n",
       "    <tr>\n",
       "      <th>10971</th>\n",
       "      <td>9/16/2019 13:43:31</td>\n",
       "      <td>Amazon</td>\n",
       "      <td>L4</td>\n",
       "      <td>Software Engineer</td>\n",
       "      <td>235000</td>\n",
       "      <td>San Francisco, CA</td>\n",
       "      <td>4.0</td>\n",
       "      <td>4.0</td>\n",
       "      <td>Full Stack</td>\n",
       "      <td>0.0</td>\n",
       "      <td>...</td>\n",
       "      <td>0</td>\n",
       "      <td>0</td>\n",
       "      <td>0</td>\n",
       "      <td>0</td>\n",
       "      <td>0</td>\n",
       "      <td>0</td>\n",
       "      <td>0</td>\n",
       "      <td>NaN</td>\n",
       "      <td>NaN</td>\n",
       "      <td>0</td>\n",
       "    </tr>\n",
       "    <tr>\n",
       "      <th>24439</th>\n",
       "      <td>7/18/2020 14:40:55</td>\n",
       "      <td>Amazon</td>\n",
       "      <td>L6</td>\n",
       "      <td>Software Engineer</td>\n",
       "      <td>250000</td>\n",
       "      <td>Bellevue, WA</td>\n",
       "      <td>10.0</td>\n",
       "      <td>8.0</td>\n",
       "      <td>Distributed Systems (Back-End)</td>\n",
       "      <td>145000.0</td>\n",
       "      <td>...</td>\n",
       "      <td>0</td>\n",
       "      <td>0</td>\n",
       "      <td>0</td>\n",
       "      <td>0</td>\n",
       "      <td>0</td>\n",
       "      <td>0</td>\n",
       "      <td>0</td>\n",
       "      <td>NaN</td>\n",
       "      <td>NaN</td>\n",
       "      <td>0</td>\n",
       "    </tr>\n",
       "    <tr>\n",
       "      <th>35595</th>\n",
       "      <td>11/19/2020 12:32:25</td>\n",
       "      <td>Microsoft</td>\n",
       "      <td>L3</td>\n",
       "      <td>Software Engineer</td>\n",
       "      <td>205000</td>\n",
       "      <td>Redmond, WA</td>\n",
       "      <td>12.0</td>\n",
       "      <td>12.0</td>\n",
       "      <td>Data</td>\n",
       "      <td>130000.0</td>\n",
       "      <td>...</td>\n",
       "      <td>0</td>\n",
       "      <td>0</td>\n",
       "      <td>0</td>\n",
       "      <td>0</td>\n",
       "      <td>0</td>\n",
       "      <td>0</td>\n",
       "      <td>0</td>\n",
       "      <td>NaN</td>\n",
       "      <td>NaN</td>\n",
       "      <td>0</td>\n",
       "    </tr>\n",
       "    <tr>\n",
       "      <th>11561</th>\n",
       "      <td>10/2/2019 2:23:28</td>\n",
       "      <td>Apple</td>\n",
       "      <td>ICT4</td>\n",
       "      <td>Software Engineer</td>\n",
       "      <td>356000</td>\n",
       "      <td>Cupertino, CA</td>\n",
       "      <td>5.0</td>\n",
       "      <td>4.0</td>\n",
       "      <td>Backend</td>\n",
       "      <td>196000.0</td>\n",
       "      <td>...</td>\n",
       "      <td>0</td>\n",
       "      <td>0</td>\n",
       "      <td>0</td>\n",
       "      <td>0</td>\n",
       "      <td>0</td>\n",
       "      <td>0</td>\n",
       "      <td>0</td>\n",
       "      <td>NaN</td>\n",
       "      <td>NaN</td>\n",
       "      <td>0</td>\n",
       "    </tr>\n",
       "    <tr>\n",
       "      <th>19203</th>\n",
       "      <td>4/7/2020 11:37:05</td>\n",
       "      <td>Microsoft</td>\n",
       "      <td>59</td>\n",
       "      <td>Software Engineer</td>\n",
       "      <td>164000</td>\n",
       "      <td>Redmond, WA</td>\n",
       "      <td>0.0</td>\n",
       "      <td>0.0</td>\n",
       "      <td>Distributed Systems (Back-End)</td>\n",
       "      <td>109000.0</td>\n",
       "      <td>...</td>\n",
       "      <td>0</td>\n",
       "      <td>0</td>\n",
       "      <td>0</td>\n",
       "      <td>0</td>\n",
       "      <td>0</td>\n",
       "      <td>0</td>\n",
       "      <td>0</td>\n",
       "      <td>NaN</td>\n",
       "      <td>Master's Degree</td>\n",
       "      <td>1</td>\n",
       "    </tr>\n",
       "    <tr>\n",
       "      <th>939</th>\n",
       "      <td>8/22/2018 14:44:44</td>\n",
       "      <td>Amazon</td>\n",
       "      <td>L6 SDM</td>\n",
       "      <td>Software Engineering Manager</td>\n",
       "      <td>350000</td>\n",
       "      <td>Seattle, WA</td>\n",
       "      <td>6.0</td>\n",
       "      <td>6.0</td>\n",
       "      <td>Distributed Systems (Back-End)</td>\n",
       "      <td>0.0</td>\n",
       "      <td>...</td>\n",
       "      <td>0</td>\n",
       "      <td>0</td>\n",
       "      <td>0</td>\n",
       "      <td>0</td>\n",
       "      <td>0</td>\n",
       "      <td>0</td>\n",
       "      <td>0</td>\n",
       "      <td>NaN</td>\n",
       "      <td>NaN</td>\n",
       "      <td>0</td>\n",
       "    </tr>\n",
       "    <tr>\n",
       "      <th>38923</th>\n",
       "      <td>1/8/2021 1:33:40</td>\n",
       "      <td>Apple</td>\n",
       "      <td>ICT4</td>\n",
       "      <td>Software Engineer</td>\n",
       "      <td>213000</td>\n",
       "      <td>Singapore, SG, Singapore</td>\n",
       "      <td>12.0</td>\n",
       "      <td>0.0</td>\n",
       "      <td>Data</td>\n",
       "      <td>140000.0</td>\n",
       "      <td>...</td>\n",
       "      <td>0</td>\n",
       "      <td>0</td>\n",
       "      <td>0</td>\n",
       "      <td>0</td>\n",
       "      <td>0</td>\n",
       "      <td>0</td>\n",
       "      <td>0</td>\n",
       "      <td>NaN</td>\n",
       "      <td>NaN</td>\n",
       "      <td>0</td>\n",
       "    </tr>\n",
       "  </tbody>\n",
       "</table>\n",
       "<p>10 rows × 30 columns</p>\n",
       "</div>"
      ],
      "text/plain": [
       "                 timestamp    company                  level  \\\n",
       "13195  11/18/2019 16:57:40   Qualcomm  Senior Staff Engineer   \n",
       "36446   12/2/2020 17:48:33     Google                     L5   \n",
       "54893   6/18/2021 11:39:27     Amazon                     L6   \n",
       "10971   9/16/2019 13:43:31     Amazon                     L4   \n",
       "24439   7/18/2020 14:40:55     Amazon                     L6   \n",
       "35595  11/19/2020 12:32:25  Microsoft                     L3   \n",
       "11561    10/2/2019 2:23:28      Apple                   ICT4   \n",
       "19203    4/7/2020 11:37:05  Microsoft                     59   \n",
       "939     8/22/2018 14:44:44     Amazon                 L6 SDM   \n",
       "38923     1/8/2021 1:33:40      Apple                   ICT4   \n",
       "\n",
       "                              title  totalyearlycompensation  \\\n",
       "13195             Hardware Engineer                   280000   \n",
       "36446             Software Engineer                   396000   \n",
       "54893             Software Engineer                   320000   \n",
       "10971             Software Engineer                   235000   \n",
       "24439             Software Engineer                   250000   \n",
       "35595             Software Engineer                   205000   \n",
       "11561             Software Engineer                   356000   \n",
       "19203             Software Engineer                   164000   \n",
       "939    Software Engineering Manager                   350000   \n",
       "38923             Software Engineer                   213000   \n",
       "\n",
       "                       location  yearsofexperience  yearsatcompany  \\\n",
       "13195             San Diego, CA               23.0             6.0   \n",
       "36446         San Francisco, CA                8.0             3.0   \n",
       "54893               Seattle, WA                8.0             8.0   \n",
       "10971         San Francisco, CA                4.0             4.0   \n",
       "24439              Bellevue, WA               10.0             8.0   \n",
       "35595               Redmond, WA               12.0            12.0   \n",
       "11561             Cupertino, CA                5.0             4.0   \n",
       "19203               Redmond, WA                0.0             0.0   \n",
       "939                 Seattle, WA                6.0             6.0   \n",
       "38923  Singapore, SG, Singapore               12.0             0.0   \n",
       "\n",
       "                                  tag  basesalary  ...  Highschool  \\\n",
       "13195                            RFIC    170000.0  ...           0   \n",
       "36446                         ML / AI    202000.0  ...           0   \n",
       "54893  Distributed Systems (Back-End)    160000.0  ...           0   \n",
       "10971                      Full Stack         0.0  ...           0   \n",
       "24439  Distributed Systems (Back-End)    145000.0  ...           0   \n",
       "35595                            Data    130000.0  ...           0   \n",
       "11561                         Backend    196000.0  ...           0   \n",
       "19203  Distributed Systems (Back-End)    109000.0  ...           0   \n",
       "939    Distributed Systems (Back-End)         0.0  ...           0   \n",
       "38923                            Data    140000.0  ...           0   \n",
       "\n",
       "       Some_College Race_Asian Race_White  Race_Two_Or_More  Race_Black  \\\n",
       "13195             0          0          0                 0           0   \n",
       "36446             0          0          1                 0           0   \n",
       "54893             0          0          1                 0           0   \n",
       "10971             0          0          0                 0           0   \n",
       "24439             0          0          0                 0           0   \n",
       "35595             0          0          0                 0           0   \n",
       "11561             0          0          0                 0           0   \n",
       "19203             0          0          0                 0           0   \n",
       "939               0          0          0                 0           0   \n",
       "38923             0          0          0                 0           0   \n",
       "\n",
       "       Race_Hispanic   Race        Education  num_degrees  \n",
       "13195              0    NaN  Master's Degree            1  \n",
       "36446              0  White              PhD            1  \n",
       "54893              0  White  Master's Degree            1  \n",
       "10971              0    NaN              NaN            0  \n",
       "24439              0    NaN              NaN            0  \n",
       "35595              0    NaN              NaN            0  \n",
       "11561              0    NaN              NaN            0  \n",
       "19203              0    NaN  Master's Degree            1  \n",
       "939                0    NaN              NaN            0  \n",
       "38923              0    NaN              NaN            0  \n",
       "\n",
       "[10 rows x 30 columns]"
      ]
     },
     "execution_count": 22,
     "metadata": {},
     "output_type": "execute_result"
    }
   ],
   "source": [
    "random = df.sample(10, replace=False, axis=0)\n",
    "random"
   ]
  },
  {
   "cell_type": "markdown",
   "id": "904965e3-c747-4223-b311-3f9b191fa0fe",
   "metadata": {},
   "source": [
    "## Correlation Between Salary and Years at Company"
   ]
  },
  {
   "cell_type": "code",
   "execution_count": 23,
   "id": "3bb0ed9a-04c3-41de-a8af-f7365096a969",
   "metadata": {},
   "outputs": [
    {
     "data": {
      "text/plain": [
       "(50.00000000000001, 0.2814898743560321, 45)"
      ]
     },
     "execution_count": 23,
     "metadata": {},
     "output_type": "execute_result"
    }
   ],
   "source": [
    "company = pd.crosstab(random.totalyearlycompensation, random.yearsatcompany)\n",
    "\n",
    "c, p, dof, expected = chi2_contingency(company)\n",
    "c, p, dof"
   ]
  },
  {
   "cell_type": "markdown",
   "id": "f8060cba-1663-40e4-b4bc-84c0355b3406",
   "metadata": {},
   "source": [
    "With a degree of 40, our value on the significance table at 0.05 would be 55.76. Compared to our chi2 value of 42.50, our value is less than the significance table value. This means we accept the null hypothesis declaring that there is no correlation between the two variables."
   ]
  },
  {
   "cell_type": "markdown",
   "id": "7c5e6e97-25f1-4b9f-a2eb-941fb61e9202",
   "metadata": {},
   "source": [
    "## Correlation between Salary and Years of Experience"
   ]
  },
  {
   "cell_type": "code",
   "execution_count": 24,
   "id": "c450a4dc-c19b-4739-9e15-3eec590a0988",
   "metadata": {},
   "outputs": [
    {
     "data": {
      "text/plain": [
       "(70.0, 0.25436730515271955, 63)"
      ]
     },
     "execution_count": 24,
     "metadata": {},
     "output_type": "execute_result"
    }
   ],
   "source": [
    "experience = pd.crosstab(random.totalyearlycompensation, random.yearsofexperience)\n",
    "\n",
    "\n",
    "c, p, dof, expected = chi2_contingency(experience)\n",
    "c, p, dof"
   ]
  },
  {
   "cell_type": "markdown",
   "id": "2ea399fa-a0e8-4c4a-a834-a78e06be7160",
   "metadata": {},
   "source": [
    "With a degree of 50, the chi2 value at 0.05 is 67.50. Compared to our chi2 value of 55.00, our value is less than the value in the significance table. This means we accept the null hypothesis declaring our two variables to have no correlation."
   ]
  },
  {
   "cell_type": "markdown",
   "id": "ce0b7599-a387-4f2e-a8d0-167123d27250",
   "metadata": {},
   "source": [
    "## Correlation Between Salary and Level of Education"
   ]
  },
  {
   "cell_type": "code",
   "execution_count": 25,
   "id": "4ce02ce5-288a-432d-9c4f-c361826572bf",
   "metadata": {},
   "outputs": [
    {
     "data": {
      "text/plain": [
       "(10.000000000000002, 0.3504852123233616, 9)"
      ]
     },
     "execution_count": 25,
     "metadata": {},
     "output_type": "execute_result"
    }
   ],
   "source": [
    "education = pd.crosstab(random.totalyearlycompensation, random.num_degrees)\n",
    "\n",
    "\n",
    "c, p, dof, expected = chi2_contingency(education)\n",
    "c, p, dof"
   ]
  },
  {
   "cell_type": "markdown",
   "id": "709c9c4f-d8bf-466c-8d37-1789179e4d67",
   "metadata": {},
   "source": [
    "With a degree of 8, our value for chi2 is 10.00. For the significance table value at 0.05, it is 15.51. Since our value is less than the significance table value, we can accept the null hypothesis and declare our two variables to have no correlation."
   ]
  },
  {
   "cell_type": "markdown",
   "id": "0d425fcb-a2e3-473b-bf1a-febf9a7f3f6b",
   "metadata": {},
   "source": [
    "## Correlation Between Salary and Race"
   ]
  },
  {
   "cell_type": "code",
   "execution_count": 26,
   "id": "72507054-817b-4c8d-a4de-10c54e9f1e82",
   "metadata": {},
   "outputs": [
    {
     "data": {
      "text/plain": [
       "(10.000000000000002, 0.3504852123233616, 9)"
      ]
     },
     "execution_count": 26,
     "metadata": {},
     "output_type": "execute_result"
    }
   ],
   "source": [
    "random[\"num_races\"] = random[\"Race_Asian\"] + random[\"Race_White\"] + random[\"Race_Black\"] + random[\"Race_Hispanic\"] + random[\"Race_Two_Or_More\"]\n",
    "\n",
    "races = pd.crosstab(random.totalyearlycompensation, random.num_races)\n",
    "\n",
    "c, p, dof, expected = chi2_contingency(races)\n",
    "c, p, dof"
   ]
  },
  {
   "cell_type": "markdown",
   "id": "918e0ed8-b908-48e1-b3cd-defb4b05a0d7",
   "metadata": {},
   "source": [
    "The significance table value for 0.05 at a degree of freedom 8 is 15.51. Because our chi2 value is 10.00, we can accept the null hypothesis. This means we can declare our two variables have no correlation"
   ]
  }
 ],
 "metadata": {
  "kernelspec": {
   "display_name": "Python 3",
   "language": "python",
   "name": "python3"
  },
  "language_info": {
   "codemirror_mode": {
    "name": "ipython",
    "version": 3
   },
   "file_extension": ".py",
   "mimetype": "text/x-python",
   "name": "python",
   "nbconvert_exporter": "python",
   "pygments_lexer": "ipython3",
   "version": "3.8.8"
  }
 },
 "nbformat": 4,
 "nbformat_minor": 5
}
